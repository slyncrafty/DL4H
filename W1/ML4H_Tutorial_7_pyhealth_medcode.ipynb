{
  "cells": [
    {
      "cell_type": "markdown",
      "metadata": {
        "id": "PHPVEkPFKYkw"
      },
      "source": [
        "### **Preparation**\n",
        "- install pyhealth alpha version"
      ]
    },
    {
      "cell_type": "code",
      "execution_count": 1,
      "metadata": {
        "colab": {
          "base_uri": "https://localhost:8080/"
        },
        "id": "Dbz1YJ2nqOSN",
        "outputId": "23f556b0-dc5d-4bf8-cd3c-b5b906f1625a",
        "collapsed": true
      },
      "outputs": [
        {
          "output_type": "stream",
          "name": "stdout",
          "text": [
            "Collecting pyhealth\n",
            "  Downloading pyhealth-1.1.6-py2.py3-none-any.whl.metadata (28 kB)\n",
            "Requirement already satisfied: torch>=1.8.0 in /usr/local/lib/python3.11/dist-packages (from pyhealth) (2.5.1+cu121)\n",
            "Requirement already satisfied: torchvision>=0.9.0 in /usr/local/lib/python3.11/dist-packages (from pyhealth) (0.20.1+cu121)\n",
            "Collecting rdkit>=2022.03.4 (from pyhealth)\n",
            "  Downloading rdkit-2024.9.4-cp311-cp311-manylinux_2_28_x86_64.whl.metadata (4.0 kB)\n",
            "Requirement already satisfied: scikit-learn>=0.24.2 in /usr/local/lib/python3.11/dist-packages (from pyhealth) (1.6.0)\n",
            "Requirement already satisfied: networkx>=2.6.3 in /usr/local/lib/python3.11/dist-packages (from pyhealth) (3.4.2)\n",
            "Collecting pandas<2,>=1.3.2 (from pyhealth)\n",
            "  Downloading pandas-1.5.3-cp311-cp311-manylinux_2_17_x86_64.manylinux2014_x86_64.whl.metadata (11 kB)\n",
            "Collecting pandarallel>=1.5.3 (from pyhealth)\n",
            "  Downloading pandarallel-1.6.5.tar.gz (14 kB)\n",
            "  Preparing metadata (setup.py) ... \u001b[?25l\u001b[?25hdone\n",
            "Collecting mne>=1.0.3 (from pyhealth)\n",
            "  Downloading mne-1.9.0-py3-none-any.whl.metadata (20 kB)\n",
            "Collecting urllib3<=1.26.15 (from pyhealth)\n",
            "  Downloading urllib3-1.26.15-py2.py3-none-any.whl.metadata (48 kB)\n",
            "\u001b[2K     \u001b[90m━━━━━━━━━━━━━━━━━━━━━━━━━━━━━━━━━━━━━━━━\u001b[0m \u001b[32m48.1/48.1 kB\u001b[0m \u001b[31m2.7 MB/s\u001b[0m eta \u001b[36m0:00:00\u001b[0m\n",
            "\u001b[?25hRequirement already satisfied: numpy in /usr/local/lib/python3.11/dist-packages (from pyhealth) (1.26.4)\n",
            "Requirement already satisfied: tqdm in /usr/local/lib/python3.11/dist-packages (from pyhealth) (4.67.1)\n",
            "Requirement already satisfied: decorator in /usr/local/lib/python3.11/dist-packages (from mne>=1.0.3->pyhealth) (4.4.2)\n",
            "Requirement already satisfied: jinja2 in /usr/local/lib/python3.11/dist-packages (from mne>=1.0.3->pyhealth) (3.1.5)\n",
            "Requirement already satisfied: lazy-loader>=0.3 in /usr/local/lib/python3.11/dist-packages (from mne>=1.0.3->pyhealth) (0.4)\n",
            "Requirement already satisfied: matplotlib>=3.6 in /usr/local/lib/python3.11/dist-packages (from mne>=1.0.3->pyhealth) (3.10.0)\n",
            "Requirement already satisfied: packaging in /usr/local/lib/python3.11/dist-packages (from mne>=1.0.3->pyhealth) (24.2)\n",
            "Requirement already satisfied: pooch>=1.5 in /usr/local/lib/python3.11/dist-packages (from mne>=1.0.3->pyhealth) (1.8.2)\n",
            "Requirement already satisfied: scipy>=1.9 in /usr/local/lib/python3.11/dist-packages (from mne>=1.0.3->pyhealth) (1.13.1)\n",
            "Collecting dill>=0.3.1 (from pandarallel>=1.5.3->pyhealth)\n",
            "  Downloading dill-0.3.9-py3-none-any.whl.metadata (10 kB)\n",
            "Requirement already satisfied: psutil in /usr/local/lib/python3.11/dist-packages (from pandarallel>=1.5.3->pyhealth) (5.9.5)\n",
            "Requirement already satisfied: python-dateutil>=2.8.1 in /usr/local/lib/python3.11/dist-packages (from pandas<2,>=1.3.2->pyhealth) (2.8.2)\n",
            "Requirement already satisfied: pytz>=2020.1 in /usr/local/lib/python3.11/dist-packages (from pandas<2,>=1.3.2->pyhealth) (2024.2)\n",
            "Requirement already satisfied: Pillow in /usr/local/lib/python3.11/dist-packages (from rdkit>=2022.03.4->pyhealth) (11.1.0)\n",
            "Requirement already satisfied: joblib>=1.2.0 in /usr/local/lib/python3.11/dist-packages (from scikit-learn>=0.24.2->pyhealth) (1.4.2)\n",
            "Requirement already satisfied: threadpoolctl>=3.1.0 in /usr/local/lib/python3.11/dist-packages (from scikit-learn>=0.24.2->pyhealth) (3.5.0)\n",
            "Requirement already satisfied: filelock in /usr/local/lib/python3.11/dist-packages (from torch>=1.8.0->pyhealth) (3.16.1)\n",
            "Requirement already satisfied: typing-extensions>=4.8.0 in /usr/local/lib/python3.11/dist-packages (from torch>=1.8.0->pyhealth) (4.12.2)\n",
            "Requirement already satisfied: fsspec in /usr/local/lib/python3.11/dist-packages (from torch>=1.8.0->pyhealth) (2024.10.0)\n",
            "Requirement already satisfied: nvidia-cuda-nvrtc-cu12==12.1.105 in /usr/local/lib/python3.11/dist-packages (from torch>=1.8.0->pyhealth) (12.1.105)\n",
            "Requirement already satisfied: nvidia-cuda-runtime-cu12==12.1.105 in /usr/local/lib/python3.11/dist-packages (from torch>=1.8.0->pyhealth) (12.1.105)\n",
            "Requirement already satisfied: nvidia-cuda-cupti-cu12==12.1.105 in /usr/local/lib/python3.11/dist-packages (from torch>=1.8.0->pyhealth) (12.1.105)\n",
            "Requirement already satisfied: nvidia-cudnn-cu12==9.1.0.70 in /usr/local/lib/python3.11/dist-packages (from torch>=1.8.0->pyhealth) (9.1.0.70)\n",
            "Requirement already satisfied: nvidia-cublas-cu12==12.1.3.1 in /usr/local/lib/python3.11/dist-packages (from torch>=1.8.0->pyhealth) (12.1.3.1)\n",
            "Requirement already satisfied: nvidia-cufft-cu12==11.0.2.54 in /usr/local/lib/python3.11/dist-packages (from torch>=1.8.0->pyhealth) (11.0.2.54)\n",
            "Requirement already satisfied: nvidia-curand-cu12==10.3.2.106 in /usr/local/lib/python3.11/dist-packages (from torch>=1.8.0->pyhealth) (10.3.2.106)\n",
            "Requirement already satisfied: nvidia-cusolver-cu12==11.4.5.107 in /usr/local/lib/python3.11/dist-packages (from torch>=1.8.0->pyhealth) (11.4.5.107)\n",
            "Requirement already satisfied: nvidia-cusparse-cu12==12.1.0.106 in /usr/local/lib/python3.11/dist-packages (from torch>=1.8.0->pyhealth) (12.1.0.106)\n",
            "Requirement already satisfied: nvidia-nccl-cu12==2.21.5 in /usr/local/lib/python3.11/dist-packages (from torch>=1.8.0->pyhealth) (2.21.5)\n",
            "Requirement already satisfied: nvidia-nvtx-cu12==12.1.105 in /usr/local/lib/python3.11/dist-packages (from torch>=1.8.0->pyhealth) (12.1.105)\n",
            "Requirement already satisfied: triton==3.1.0 in /usr/local/lib/python3.11/dist-packages (from torch>=1.8.0->pyhealth) (3.1.0)\n",
            "Requirement already satisfied: sympy==1.13.1 in /usr/local/lib/python3.11/dist-packages (from torch>=1.8.0->pyhealth) (1.13.1)\n",
            "Requirement already satisfied: nvidia-nvjitlink-cu12 in /usr/local/lib/python3.11/dist-packages (from nvidia-cusolver-cu12==11.4.5.107->torch>=1.8.0->pyhealth) (12.6.85)\n",
            "Requirement already satisfied: mpmath<1.4,>=1.1.0 in /usr/local/lib/python3.11/dist-packages (from sympy==1.13.1->torch>=1.8.0->pyhealth) (1.3.0)\n",
            "Requirement already satisfied: contourpy>=1.0.1 in /usr/local/lib/python3.11/dist-packages (from matplotlib>=3.6->mne>=1.0.3->pyhealth) (1.3.1)\n",
            "Requirement already satisfied: cycler>=0.10 in /usr/local/lib/python3.11/dist-packages (from matplotlib>=3.6->mne>=1.0.3->pyhealth) (0.12.1)\n",
            "Requirement already satisfied: fonttools>=4.22.0 in /usr/local/lib/python3.11/dist-packages (from matplotlib>=3.6->mne>=1.0.3->pyhealth) (4.55.3)\n",
            "Requirement already satisfied: kiwisolver>=1.3.1 in /usr/local/lib/python3.11/dist-packages (from matplotlib>=3.6->mne>=1.0.3->pyhealth) (1.4.8)\n",
            "Requirement already satisfied: pyparsing>=2.3.1 in /usr/local/lib/python3.11/dist-packages (from matplotlib>=3.6->mne>=1.0.3->pyhealth) (3.2.1)\n",
            "Requirement already satisfied: platformdirs>=2.5.0 in /usr/local/lib/python3.11/dist-packages (from pooch>=1.5->mne>=1.0.3->pyhealth) (4.3.6)\n",
            "Requirement already satisfied: requests>=2.19.0 in /usr/local/lib/python3.11/dist-packages (from pooch>=1.5->mne>=1.0.3->pyhealth) (2.32.3)\n",
            "Requirement already satisfied: six>=1.5 in /usr/local/lib/python3.11/dist-packages (from python-dateutil>=2.8.1->pandas<2,>=1.3.2->pyhealth) (1.17.0)\n",
            "Requirement already satisfied: MarkupSafe>=2.0 in /usr/local/lib/python3.11/dist-packages (from jinja2->mne>=1.0.3->pyhealth) (3.0.2)\n",
            "Requirement already satisfied: charset-normalizer<4,>=2 in /usr/local/lib/python3.11/dist-packages (from requests>=2.19.0->pooch>=1.5->mne>=1.0.3->pyhealth) (3.4.1)\n",
            "Requirement already satisfied: idna<4,>=2.5 in /usr/local/lib/python3.11/dist-packages (from requests>=2.19.0->pooch>=1.5->mne>=1.0.3->pyhealth) (3.10)\n",
            "Requirement already satisfied: certifi>=2017.4.17 in /usr/local/lib/python3.11/dist-packages (from requests>=2.19.0->pooch>=1.5->mne>=1.0.3->pyhealth) (2024.12.14)\n",
            "Downloading pyhealth-1.1.6-py2.py3-none-any.whl (311 kB)\n",
            "\u001b[2K   \u001b[90m━━━━━━━━━━━━━━━━━━━━━━━━━━━━━━━━━━━━━━━━\u001b[0m \u001b[32m311.6/311.6 kB\u001b[0m \u001b[31m11.2 MB/s\u001b[0m eta \u001b[36m0:00:00\u001b[0m\n",
            "\u001b[?25hDownloading mne-1.9.0-py3-none-any.whl (7.4 MB)\n",
            "\u001b[2K   \u001b[90m━━━━━━━━━━━━━━━━━━━━━━━━━━━━━━━━━━━━━━━━\u001b[0m \u001b[32m7.4/7.4 MB\u001b[0m \u001b[31m66.3 MB/s\u001b[0m eta \u001b[36m0:00:00\u001b[0m\n",
            "\u001b[?25hDownloading pandas-1.5.3-cp311-cp311-manylinux_2_17_x86_64.manylinux2014_x86_64.whl (12.0 MB)\n",
            "\u001b[2K   \u001b[90m━━━━━━━━━━━━━━━━━━━━━━━━━━━━━━━━━━━━━━━━\u001b[0m \u001b[32m12.0/12.0 MB\u001b[0m \u001b[31m61.6 MB/s\u001b[0m eta \u001b[36m0:00:00\u001b[0m\n",
            "\u001b[?25hDownloading rdkit-2024.9.4-cp311-cp311-manylinux_2_28_x86_64.whl (34.2 MB)\n",
            "\u001b[2K   \u001b[90m━━━━━━━━━━━━━━━━━━━━━━━━━━━━━━━━━━━━━━━━\u001b[0m \u001b[32m34.2/34.2 MB\u001b[0m \u001b[31m19.2 MB/s\u001b[0m eta \u001b[36m0:00:00\u001b[0m\n",
            "\u001b[?25hDownloading urllib3-1.26.15-py2.py3-none-any.whl (140 kB)\n",
            "\u001b[2K   \u001b[90m━━━━━━━━━━━━━━━━━━━━━━━━━━━━━━━━━━━━━━━━\u001b[0m \u001b[32m140.9/140.9 kB\u001b[0m \u001b[31m4.7 MB/s\u001b[0m eta \u001b[36m0:00:00\u001b[0m\n",
            "\u001b[?25hDownloading dill-0.3.9-py3-none-any.whl (119 kB)\n",
            "\u001b[2K   \u001b[90m━━━━━━━━━━━━━━━━━━━━━━━━━━━━━━━━━━━━━━━━\u001b[0m \u001b[32m119.4/119.4 kB\u001b[0m \u001b[31m5.1 MB/s\u001b[0m eta \u001b[36m0:00:00\u001b[0m\n",
            "\u001b[?25hBuilding wheels for collected packages: pandarallel\n",
            "  Building wheel for pandarallel (setup.py) ... \u001b[?25l\u001b[?25hdone\n",
            "  Created wheel for pandarallel: filename=pandarallel-1.6.5-py3-none-any.whl size=16674 sha256=e034e30d67a386eccda0081fd94868823032d191de7cea91c01636e6d243a356\n",
            "  Stored in directory: /root/.cache/pip/wheels/b9/c6/5a/829298789e94348b81af52ab42c19d49da007306bbcc983827\n",
            "Successfully built pandarallel\n",
            "Installing collected packages: urllib3, rdkit, dill, pandas, pandarallel, mne, pyhealth\n",
            "  Attempting uninstall: urllib3\n",
            "    Found existing installation: urllib3 2.3.0\n",
            "    Uninstalling urllib3-2.3.0:\n",
            "      Successfully uninstalled urllib3-2.3.0\n",
            "  Attempting uninstall: pandas\n",
            "    Found existing installation: pandas 2.2.2\n",
            "    Uninstalling pandas-2.2.2:\n",
            "      Successfully uninstalled pandas-2.2.2\n",
            "\u001b[31mERROR: pip's dependency resolver does not currently take into account all the packages that are installed. This behaviour is the source of the following dependency conflicts.\n",
            "google-colab 1.0.0 requires pandas==2.2.2, but you have pandas 1.5.3 which is incompatible.\n",
            "xarray 2025.1.1 requires pandas>=2.1, but you have pandas 1.5.3 which is incompatible.\n",
            "cudf-cu12 24.10.1 requires pandas<2.2.3dev0,>=2.0, but you have pandas 1.5.3 which is incompatible.\n",
            "plotnine 0.14.5 requires pandas>=2.2.0, but you have pandas 1.5.3 which is incompatible.\n",
            "mizani 0.13.1 requires pandas>=2.2.0, but you have pandas 1.5.3 which is incompatible.\u001b[0m\u001b[31m\n",
            "\u001b[0mSuccessfully installed dill-0.3.9 mne-1.9.0 pandarallel-1.6.5 pandas-1.5.3 pyhealth-1.1.6 rdkit-2024.9.4 urllib3-1.26.15\n"
          ]
        }
      ],
      "source": [
        "!pip install pyhealth --quiet"
      ]
    },
    {
      "cell_type": "markdown",
      "metadata": {
        "id": "_1S5rqae7FhB"
      },
      "source": [
        "### **Instruction on [pyhealth.medcode](https://pyhealth.readthedocs.io/en/latest/api/medcode.html)**\n",
        "- **[README]**: medcode provides two core functionalities:\n",
        "    - (1) looking up information for a given medical code (e.g., name, category, sub-concept);\n",
        "    - (2) mapping codes across coding systems (e.g., ICD9CM to CCSCM). **This module can be easily applied to your research.**"
      ]
    },
    {
      "cell_type": "markdown",
      "metadata": {
        "id": "6HPf_5D0nQK6"
      },
      "source": [
        "### 1. Code Lookup\n",
        "\n",
        "`class pyhealth.medcode.InnerMap`\n",
        "\n",
        "- **[Functionality]**:\n",
        "    - lookup(code): looks up code in a coding system\n",
        "    - contains(code): checks whether a code belongs to a specific coding system\n",
        "    - get_ancestors(code): returns the ancestors for a given code\n",
        "\n",
        "Currently, we support the following coding systems:\n",
        "\n",
        "- Diagnosis codes:\n",
        "    - ICD9CM\n",
        "    - ICD10CM\n",
        "    - CCSCM\n",
        "- Procedure codes:\n",
        "    - ICD9PROC\n",
        "    - ICD10PROC\n",
        "    - CCSPROC\n",
        "- Medication codes:\n",
        "    - NDC\n",
        "    - RxNorm\n",
        "    - ATC"
      ]
    },
    {
      "cell_type": "markdown",
      "metadata": {
        "id": "fUL4zbTRnw3P"
      },
      "source": [
        "### Example 1: Look up ICD9CM code\n",
        "\n",
        "Let's first try to look up the ICD9 CM code 428.0, which stands for \"Congestive heart failure, unspecified\"."
      ]
    },
    {
      "cell_type": "code",
      "execution_count": null,
      "metadata": {
        "colab": {
          "base_uri": "https://localhost:8080/"
        },
        "id": "XfVUbTI7nPsH",
        "outputId": "f8c7da5f-65ac-4275-8b21-faa0999b4754"
      },
      "outputs": [
        {
          "data": {
            "text/plain": [
              "True"
            ]
          },
          "execution_count": 2,
          "metadata": {},
          "output_type": "execute_result"
        }
      ],
      "source": [
        "from pyhealth.medcode import InnerMap\n",
        "\n",
        "# initialize an InnerMap\n",
        "icd9cm = InnerMap.load(\"ICD9CM\")\n",
        "\n",
        "# let's first check if the code is in ICD9CM\n",
        "\"480\" in icd9cm"
      ]
    },
    {
      "cell_type": "code",
      "execution_count": null,
      "metadata": {
        "colab": {
          "base_uri": "https://localhost:8080/",
          "height": 36
        },
        "id": "ca79ODRkopvO",
        "outputId": "b8300bc3-ce54-4966-dd32-0534f49a4dfb"
      },
      "outputs": [
        {
          "data": {
            "application/vnd.google.colaboratory.intrinsic+json": {
              "type": "string"
            },
            "text/plain": [
              "'Viral pneumonia'"
            ]
          },
          "execution_count": 3,
          "metadata": {},
          "output_type": "execute_result"
        }
      ],
      "source": [
        "# next let's look up this code\n",
        "icd9cm.lookup(\"480\")"
      ]
    },
    {
      "cell_type": "code",
      "execution_count": null,
      "metadata": {
        "colab": {
          "base_uri": "https://localhost:8080/"
        },
        "id": "NLvvKbloo3cv",
        "outputId": "47b1c6e6-ee36-4e54-d912-f9a935f7592d"
      },
      "outputs": [
        {
          "data": {
            "text/plain": [
              "['480-488.99', '460-519.99', '001-999.99']"
            ]
          },
          "execution_count": 4,
          "metadata": {},
          "output_type": "execute_result"
        }
      ],
      "source": [
        "# we can also get the ancestors of this code\n",
        "icd9cm.get_ancestors(\"480\")"
      ]
    },
    {
      "cell_type": "code",
      "execution_count": null,
      "metadata": {
        "colab": {
          "base_uri": "https://localhost:8080/"
        },
        "id": "24b45pbzVzYP",
        "outputId": "11fe3638-e1f6-4b1a-d08f-16f7d5ef4c4e"
      },
      "outputs": [
        {
          "data": {
            "text/plain": [
              "['480.0', '480.1', '480.2', '480.3', '480.8', '480.9']"
            ]
          },
          "execution_count": 5,
          "metadata": {},
          "output_type": "execute_result"
        }
      ],
      "source": [
        "icd9cm.get_descendants(\"480\")"
      ]
    },
    {
      "cell_type": "markdown",
      "metadata": {
        "id": "mB_7HSJOu7Oc"
      },
      "source": [
        "Note that if the code is not in standard format (e.g., \"4280\" instead of \"428.0\"), medcode will automatically normalize it."
      ]
    },
    {
      "cell_type": "code",
      "execution_count": null,
      "metadata": {
        "colab": {
          "base_uri": "https://localhost:8080/",
          "height": 36
        },
        "id": "7AkmUcM_u6a-",
        "outputId": "8771cf03-e790-4a89-8c3b-6508f7fd2280"
      },
      "outputs": [
        {
          "data": {
            "application/vnd.google.colaboratory.intrinsic+json": {
              "type": "string"
            },
            "text/plain": [
              "'Congestive heart failure, unspecified'"
            ]
          },
          "execution_count": 6,
          "metadata": {},
          "output_type": "execute_result"
        }
      ],
      "source": [
        "# non-standard format\n",
        "icd9cm.lookup(\"4280\")"
      ]
    },
    {
      "cell_type": "markdown",
      "metadata": {
        "id": "MhTm-_74pZyd"
      },
      "source": [
        "**TODO**: look up the following ICD9CM codes: 480.1, 280, 394"
      ]
    },
    {
      "cell_type": "code",
      "execution_count": null,
      "metadata": {
        "colab": {
          "base_uri": "https://localhost:8080/",
          "height": 36
        },
        "id": "n2eLWCtRvAgq",
        "outputId": "56e56f19-dd1a-469d-d780-6bbad3f59194"
      },
      "outputs": [
        {
          "data": {
            "application/vnd.google.colaboratory.intrinsic+json": {
              "type": "string"
            },
            "text/plain": [
              "'Pneumonia due to respiratory syncytial virus'"
            ]
          },
          "execution_count": 7,
          "metadata": {},
          "output_type": "execute_result"
        }
      ],
      "source": [
        "icd9cm.lookup(\"480.1\")"
      ]
    },
    {
      "cell_type": "code",
      "execution_count": null,
      "metadata": {
        "colab": {
          "base_uri": "https://localhost:8080/",
          "height": 36
        },
        "id": "JRU5mmWHvDk2",
        "outputId": "f581dea2-ae3e-471f-a0a8-25a3248f299f"
      },
      "outputs": [
        {
          "data": {
            "application/vnd.google.colaboratory.intrinsic+json": {
              "type": "string"
            },
            "text/plain": [
              "'Iron deficiency anemias'"
            ]
          },
          "execution_count": 8,
          "metadata": {},
          "output_type": "execute_result"
        }
      ],
      "source": [
        "icd9cm.lookup(\"280\")"
      ]
    },
    {
      "cell_type": "code",
      "execution_count": null,
      "metadata": {
        "colab": {
          "base_uri": "https://localhost:8080/",
          "height": 36
        },
        "id": "RlvZHwk1vGAP",
        "outputId": "01c968fe-dcb6-4224-84a9-188791dc411d"
      },
      "outputs": [
        {
          "data": {
            "application/vnd.google.colaboratory.intrinsic+json": {
              "type": "string"
            },
            "text/plain": [
              "'Diseases of mitral valve'"
            ]
          },
          "execution_count": 9,
          "metadata": {},
          "output_type": "execute_result"
        }
      ],
      "source": [
        "icd9cm.lookup(\"394\")"
      ]
    },
    {
      "cell_type": "markdown",
      "metadata": {
        "id": "eUTcMK_3p69D"
      },
      "source": [
        "**TODO:** look up the following CCSPROC codes: 2, 5, 10"
      ]
    },
    {
      "cell_type": "code",
      "execution_count": null,
      "metadata": {
        "id": "MFDKpEVFvH6P"
      },
      "outputs": [],
      "source": [
        "ccsproc = InnerMap.load(\"CCSPROC\")"
      ]
    },
    {
      "cell_type": "code",
      "execution_count": null,
      "metadata": {
        "colab": {
          "base_uri": "https://localhost:8080/",
          "height": 36
        },
        "id": "y_a4ZZZCvMsS",
        "outputId": "505507c6-90ee-4f41-a4a1-bf43ca71264b"
      },
      "outputs": [
        {
          "data": {
            "application/vnd.google.colaboratory.intrinsic+json": {
              "type": "string"
            },
            "text/plain": [
              "'Insertion; replacement; or removal of extracranial ventricular shunt\"'"
            ]
          },
          "execution_count": 11,
          "metadata": {},
          "output_type": "execute_result"
        }
      ],
      "source": [
        "ccsproc.lookup(\"2\")"
      ]
    },
    {
      "cell_type": "code",
      "execution_count": null,
      "metadata": {
        "colab": {
          "base_uri": "https://localhost:8080/",
          "height": 36
        },
        "id": "3oJ54dOzvPoX",
        "outputId": "15ce9334-4087-4eba-f60c-b3675e83dfe4"
      },
      "outputs": [
        {
          "data": {
            "application/vnd.google.colaboratory.intrinsic+json": {
              "type": "string"
            },
            "text/plain": [
              "'Insertion of catheter or spinal stimulator and injection into spinal canal\"'"
            ]
          },
          "execution_count": 12,
          "metadata": {},
          "output_type": "execute_result"
        }
      ],
      "source": [
        "ccsproc.lookup(\"5\")"
      ]
    },
    {
      "cell_type": "code",
      "execution_count": null,
      "metadata": {
        "colab": {
          "base_uri": "https://localhost:8080/",
          "height": 36
        },
        "id": "ZN0EGln8vRRI",
        "outputId": "eea22662-77a4-4273-c41f-8a6089eaa940"
      },
      "outputs": [
        {
          "data": {
            "application/vnd.google.colaboratory.intrinsic+json": {
              "type": "string"
            },
            "text/plain": [
              "'Thyroidectomy; partial or complete\"'"
            ]
          },
          "execution_count": 13,
          "metadata": {},
          "output_type": "execute_result"
        }
      ],
      "source": [
        "ccsproc.lookup(\"10\")"
      ]
    },
    {
      "cell_type": "markdown",
      "metadata": {
        "id": "NTwzz6_-qU0R"
      },
      "source": [
        "### Example 2: Look up ATC code\n",
        "\n",
        "For the medication code ATC, medcode provides additional information from DrugBank,."
      ]
    },
    {
      "cell_type": "code",
      "execution_count": null,
      "metadata": {
        "colab": {
          "base_uri": "https://localhost:8080/",
          "height": 36
        },
        "id": "ejIczHHeqjyg",
        "outputId": "e9dc7b22-6087-465d-c94f-d24f7e085d09"
      },
      "outputs": [
        {
          "data": {
            "application/vnd.google.colaboratory.intrinsic+json": {
              "type": "string"
            },
            "text/plain": [
              "'ibuprofen, combinations'"
            ]
          },
          "execution_count": 14,
          "metadata": {},
          "output_type": "execute_result"
        }
      ],
      "source": [
        "atc = InnerMap.load(\"ATC\")\n",
        "\n",
        "# let's search for M01AE51\n",
        "atc.lookup(\"M01AE51\")"
      ]
    },
    {
      "cell_type": "code",
      "execution_count": null,
      "metadata": {
        "colab": {
          "base_uri": "https://localhost:8080/"
        },
        "id": "QzmQFrdSrUsB",
        "outputId": "76f35fef-741d-4fc6-a041-8e26c27fd072"
      },
      "outputs": [
        {
          "name": "stdout",
          "output_type": "stream",
          "text": [
            "DB01050\n"
          ]
        }
      ],
      "source": [
        "#  DrugBank ID\n",
        "print(atc.lookup(\"M01AE51\", \"drugbank_id\"))"
      ]
    },
    {
      "cell_type": "code",
      "execution_count": null,
      "metadata": {
        "colab": {
          "base_uri": "https://localhost:8080/"
        },
        "id": "2456YJMxrD-X",
        "outputId": "99eba5ed-d307-4472-b735-29cb765fd6f4"
      },
      "outputs": [
        {
          "name": "stdout",
          "output_type": "stream",
          "text": [
            "Ibuprofen is a non-steroidal anti-inflammatory drug (NSAID) derived from propionic acid and it is considered the first of the propionics.[A39074] The formula of ibuprofen is 2-(4-isobutylphenyl) propionic acid and its initial development was in 1960 while researching for a safer alternative for aspirin.[A39075] Ibuprofen was finally patented in 1961 and this drug was first launched against rheumatoid arthritis in the UK in 1969 and USA in 1974. It was the first available over-the-counter NSAID.[A39076]\n",
            "\n",
            "On the available products, ibuprofen is administered as a racemic mixture. Once administered, the R-enantiomer undergoes extensive interconversion to the S-enantiomer _in vivo_ by the activity of the alpha-methylacyl-CoA racemase. In particular, it is generally proposed that the S-enantiomer is capable of eliciting stronger pharmacological activity than the R-enantiomer.[A39194]\n"
          ]
        }
      ],
      "source": [
        "#  Drug description from DrugBank\n",
        "print(atc.lookup(\"M01AE51\", \"description\"))"
      ]
    },
    {
      "cell_type": "code",
      "execution_count": null,
      "metadata": {
        "colab": {
          "base_uri": "https://localhost:8080/"
        },
        "id": "QVuRAKaMrN-5",
        "outputId": "0ff9b09a-f7b1-4492-8c15-ce55582ca8a7"
      },
      "outputs": [
        {
          "name": "stdout",
          "output_type": "stream",
          "text": [
            "Ibuprofen is the most commonly used and prescribed NSAID. It is very common over the counter medication widely used as an analgesic, anti-inflammatory and antipyretic.[A39096]\n",
            "\n",
            "The use of ibuprofen and its enantiomer [DB09213] in a racemic mix is common for the management of mild to moderate pain related to dysmenorrhea, headache, migraine, postoperative dental pain, spondylitis, osteoarthritis, rheumatoid arthritis, and soft tissue disorder.[A39097]\n",
            "\n",
            "Due to its activity against prostaglandin and thromboxane synthesis, ibuprofen has been attributed to alteration of platelet function and prolongation of gestation and labor.[A39092]\n",
            "\n",
            "As ibuprofen is a widely used medication, the main therapeutic indications are:\n",
            "\n",
            "* Patent Ductus Arteriosus - it is a neonatal condition wherein the ductus arteriosus (blood vessel that connects the main pulmonary artery to the proximal descending aorta) fails to close after birth causing severe risk of heart failure. The prostaglandin inhibition of ibuprofen has been studied for the treatment of this condition as it is known that prostaglandin E2 is responsible for keeping the ductus arteriosus open.[A39100]\n",
            "\n",
            "* Rheumatoid- and osteo-arthritis - ibuprofen is very commonly used in the symptomatic treatment of inflammatory, musculoskeletal and rheumatic disorders.[A39176]\n",
            "\n",
            "* Cystic fibrosis - the use of high dosages of ibuprofen has been proven to decrease inflammation and decreasing polymorphonuclear cell influx in the lungs.[A39177]\n",
            "\n",
            "* Orthostatic hypotension - ibuprofen can induce sodium retention and antagonize the effect of diuretics which has been reported to be beneficial for patients with severe orthostatic hypotension.[A1651]\n",
            "\n",
            "* Dental pain - ibuprofen is used to manage acute and chronic orofacial pain.[A10901]\n",
            "\n",
            "* Minor pain - ibuprofen is widely used to reduce minor aches and pains as well as to reduce fever and manage dysmenorrhea. It is very commonly used for the relief of acute indications such as fever and tension headaches.[A39092]\n",
            "\n",
            "* Investigational uses - efforts have been put into developing ibuprofen for the prophylaxis of Alzheimer's disease, Parkinson disease, and breast cancer.[A39092]\n"
          ]
        }
      ],
      "source": [
        "#  Drug indication from DrugBank\n",
        "print(atc.lookup(\"M01AE51\", \"indication\"))"
      ]
    },
    {
      "cell_type": "code",
      "execution_count": null,
      "metadata": {
        "colab": {
          "base_uri": "https://localhost:8080/"
        },
        "id": "a2_XGukyrQLm",
        "outputId": "2609c2b5-d7b2-462d-a738-6f7905820e1e"
      },
      "outputs": [
        {
          "name": "stdout",
          "output_type": "stream",
          "text": [
            "CC(C)CC1=CC=C(C=C1)C(C)C(O)=O\n"
          ]
        }
      ],
      "source": [
        "#  Drug SMILES string from DrugBank\n",
        "print(atc.lookup(\"M01AE51\", \"smiles\"))"
      ]
    },
    {
      "cell_type": "markdown",
      "metadata": {
        "id": "9icZIs36rbYm"
      },
      "source": [
        "**TODO**: look up other ATC codes from https://go.drugbank.com/atc\n",
        "\n",
        "E.g., B01AC06 for Aspirin."
      ]
    },
    {
      "cell_type": "code",
      "execution_count": null,
      "metadata": {
        "colab": {
          "base_uri": "https://localhost:8080/"
        },
        "id": "-YT-oYRgvcZm",
        "outputId": "fda918b7-b762-499e-9123-45140a417bff"
      },
      "outputs": [
        {
          "name": "stdout",
          "output_type": "stream",
          "text": [
            "**Pain, fever, and inflammation**\n",
            "\n",
            "Acetylsalicylic acid (ASA), in the regular tablet form (immediate-release), is indicated to relieve pain, fever, and inflammation associated with many conditions, including the flu, the common cold, neck and back pain, dysmenorrhea, headache, tooth pain, sprains, fractures, myositis, neuralgia, synovitis, arthritis, bursitis, burns, and various injuries. It is also used for symptomatic pain relief after surgical and dental procedures [FDA label]. \n",
            "\n",
            "The _extra strength_ formulation of acetylsalicylic acid is also indicated for the management migraine pain with photophobia (sensitivity to light) and phonophobia (sensitivity to sound)[FDA label].\n",
            "\n",
            "**Other indications**\n",
            "\n",
            "ASA is also indicated for various other purposes, due to its ability to inhibit platelet aggregation. These include: \n",
            "\n",
            "Reducing the risk of cardiovascular death in suspected cases of myocardial infarction (MI) [FDA label]. \n",
            "\n",
            "Reducing the risk of a first non-fatal myocardial infarction in patients, and for reducing the risk of morbidity and mortality in cases of unstable angina and in those who have had a prior myocardial infarction [FDA label].\n",
            "\n",
            "For reducing the risk of transient ischemic attacks (TIA) and to prevent atherothrombotic cerebral infarction (in conjunction with other treatments) [FDA label].\n",
            "\n",
            "For the prevention of thromboembolism after hip replacement surgery [FDA label]. \n",
            "\n",
            "For decreasing platelet to platelet adhesion following carotid endarterectomy, aiding in the prevention of transient ischemic attacks (TIA) [FDA label].\n",
            "\n",
            "Used for patients undergoing hemodialysis with a silicone rubber arteriovenous cannula inserted to prevent thrombosis at the insertion site [FDA Label]. \n",
            "\n",
            "**Important note regarding use of the extended-release formulation [F4405]**\n",
            "\n",
            "In the setting of acute myocardial infarction, or before percutaneous interventions, the extended-release form of acetylsalicylic acid should not be used. Use immediate-release formulations in scenarios requiring rapid onset of action [Label, F4405]. The extended-release form is taken to decrease the incidence of mortality and myocardial infarction (MI) for individuals diagnosed with chronic coronary artery disease (CAD), including patients with previous myocardial infarction (MI) or unstable angina or with chronic stable angina. Additionally, the extended-release form is used to decrease the risk of death and recurrent episodes of stroke in patients with a history of stroke or TIA [F4405].\n",
            "\n",
            "\n",
            " \n"
          ]
        }
      ],
      "source": [
        "print(atc.lookup(\"B01AC06\", \"indication\"))"
      ]
    },
    {
      "cell_type": "code",
      "execution_count": null,
      "metadata": {
        "colab": {
          "base_uri": "https://localhost:8080/",
          "height": 36
        },
        "id": "elgRQlnmyiq9",
        "outputId": "6752da3f-19f1-4dad-f764-e2407c2beb62"
      },
      "outputs": [
        {
          "data": {
            "application/vnd.google.colaboratory.intrinsic+json": {
              "type": "string"
            },
            "text/plain": [
              "'A12C'"
            ]
          },
          "execution_count": 20,
          "metadata": {},
          "output_type": "execute_result"
        }
      ],
      "source": [
        "# print(atc.lookup(\"A12CE02\", \"drugbank_id\"))\n",
        "atc.convert(\"A12CE02\", level=3)"
      ]
    },
    {
      "cell_type": "markdown",
      "metadata": {
        "id": "kAMEBO-Mr2sB"
      },
      "source": [
        "### 2. Code Mapping\n",
        "\n",
        "`class pyhealth.medcode.CodeMap`\n",
        "- **[Args]**:\n",
        "    - source: source code vocabulary to map from\n",
        "    - target: target code vocabulary to map to\n",
        "\n",
        "- **[Functionality]**:\n",
        "- map(source_code): maps source_code to the target vocabulary\n",
        "\n",
        "Currently, we support the following mapping:\n",
        "\n",
        "- With in diagnosis codes:\n",
        "    - ICD9CM <-> CCSCM\n",
        "    - ICD10CM <-> CCSCM\n",
        "- With in procedure codes:\n",
        "    - ICD9PROC <-> CCSPROC\n",
        "    - ICD10PROC <-> CCSPROC\n",
        "- With in medication codes:\n",
        "    - NDC <-> RxNorm\n",
        "    - NDC <-> ATC\n",
        "    - RxNorm <-> ATC\n",
        "- Between diagnosis and medication codes:\n",
        "    - ATC <-> ICD9CM"
      ]
    },
    {
      "cell_type": "markdown",
      "metadata": {
        "id": "uIhMHC67sthU"
      },
      "source": [
        "### Example 3: Map ICD9CM code to CCSCM code\n",
        "\n",
        "Let's try to map the ICD9 CM code 428.0, which stands for \"Congestive heart failure, unspecified\", to CCS CM code."
      ]
    },
    {
      "cell_type": "code",
      "execution_count": null,
      "metadata": {
        "colab": {
          "base_uri": "https://localhost:8080/"
        },
        "id": "hgGo1hUYs457",
        "outputId": "7f531a52-9499-4c4a-b3f6-1f95aaaf7606"
      },
      "outputs": [
        {
          "data": {
            "text/plain": [
              "['108']"
            ]
          },
          "execution_count": 21,
          "metadata": {},
          "output_type": "execute_result"
        }
      ],
      "source": [
        "from pyhealth.medcode import CrossMap\n",
        "\n",
        "mapping = CrossMap.load(source_vocabulary=\"ICD9CM\", target_vocabulary=\"CCSCM\")\n",
        "mapping.map(\"428.0\")"
      ]
    },
    {
      "cell_type": "markdown",
      "metadata": {
        "id": "1EFw192-vYNu"
      },
      "source": [
        "Note that the returned variable is a list of codes, due to the possible one-to-many mapping."
      ]
    },
    {
      "cell_type": "code",
      "execution_count": null,
      "metadata": {
        "colab": {
          "base_uri": "https://localhost:8080/"
        },
        "id": "Mg__ZGSks5DX",
        "outputId": "02d1206e-4c8e-4ce1-a19b-e2441baa90f8"
      },
      "outputs": [
        {
          "name": "stdout",
          "output_type": "stream",
          "text": [
            "Congestive heart failure; nonhypertensive\n"
          ]
        }
      ],
      "source": [
        "# let's check if the mapping is correct\n",
        "ccscm = InnerMap.load(\"CCSCM\")\n",
        "print(ccscm.lookup(\"108\"))"
      ]
    },
    {
      "cell_type": "markdown",
      "metadata": {
        "id": "oAWfsmTNv46n"
      },
      "source": [
        "chf;nonhp: Congestive heart failure, nonhypertensive"
      ]
    },
    {
      "cell_type": "markdown",
      "metadata": {
        "id": "u2zo-JtqwjED"
      },
      "source": []
    },
    {
      "cell_type": "markdown",
      "metadata": {
        "id": "2jmqQX1Dstp7"
      },
      "source": [
        "### Example 4: Map NDC code to ATC code\n",
        "\n",
        "Let's try to map the NDC code 5058060001, which is acetaminophen 325 MG Oral Tablet [Tylenol].\n",
        "\n",
        "See https://fda.report/NDC/50580-496."
      ]
    },
    {
      "cell_type": "code",
      "execution_count": null,
      "metadata": {
        "colab": {
          "background_save": true
        },
        "id": "Q5JsV6PAr5Sj",
        "outputId": "028263b2-3fb9-4b6d-d983-ac3d54c9914f"
      },
      "outputs": [
        {
          "data": {
            "text/plain": [
              "['209387']"
            ]
          },
          "execution_count": 23,
          "metadata": {},
          "output_type": "execute_result"
        }
      ],
      "source": [
        "from pyhealth.medcode import CrossMap\n",
        "\n",
        "# (it may take up to 5 minutes)\n",
        "mapping = CrossMap.load(\"NDC\", \"RxNorm\")\n",
        "mapping.map(\"50580049698\")"
      ]
    },
    {
      "cell_type": "code",
      "execution_count": null,
      "metadata": {
        "colab": {
          "background_save": true
        },
        "id": "wGmwMNfCcoW3",
        "outputId": "a4162d91-d087-4bd5-ebc3-4ced77ec1b87"
      },
      "outputs": [
        {
          "data": {
            "text/plain": [
              "['00045045270',\n",
              " '00045049642',\n",
              " '00045049650',\n",
              " '00045049660',\n",
              " '00045049777',\n",
              " '00045049780',\n",
              " '505800458',\n",
              " '50580045810',\n",
              " '50580045811',\n",
              " '50580045850',\n",
              " '505800495',\n",
              " '50580049501',\n",
              " '505800496',\n",
              " '50580049650',\n",
              " '50580049660',\n",
              " '50580049698',\n",
              " '505800501',\n",
              " '50580050110',\n",
              " '50580050180',\n",
              " '505800600',\n",
              " '50580060001',\n",
              " '50580060002',\n",
              " '50580060003',\n",
              " '551541918',\n",
              " '55154191800',\n",
              " '551541928',\n",
              " '55154192800',\n",
              " '705182798',\n",
              " '70518279800']"
            ]
          },
          "execution_count": 24,
          "metadata": {},
          "output_type": "execute_result"
        }
      ],
      "source": [
        "# (it may take up to 5 minutes)\n",
        "mapping = CrossMap.load(\"RxNorm\", \"NDC\")\n",
        "mapping.map(\"209387\")"
      ]
    },
    {
      "cell_type": "code",
      "execution_count": null,
      "metadata": {
        "colab": {
          "background_save": true
        },
        "id": "gKrZ1o5owVJ4",
        "outputId": "f290d175-44f2-49f6-8598-3368812b8d57"
      },
      "outputs": [
        {
          "data": {
            "application/vnd.google.colaboratory.intrinsic+json": {
              "type": "string"
            },
            "text/plain": [
              "'acetaminophen 325 MG Oral Tablet [Tylenol]'"
            ]
          },
          "execution_count": 25,
          "metadata": {},
          "output_type": "execute_result"
        }
      ],
      "source": [
        "# let's check if the mapping is correct\n",
        "ccscm = InnerMap.load(\"RxNorm\")\n",
        "ccscm.lookup(\"209387\")"
      ]
    },
    {
      "cell_type": "markdown",
      "metadata": {
        "id": "yTsq7iDHyQD1"
      },
      "source": [
        "**TODO:** Map NDC code 50090539100 to ATC.\n",
        "\n",
        "See https://ndclist.com/ndc/50090-5391/package/50090-5391-0."
      ]
    },
    {
      "cell_type": "code",
      "execution_count": null,
      "metadata": {
        "colab": {
          "background_save": true
        },
        "id": "l3pFuvxRwV0Y",
        "outputId": "efbba134-a5bf-4f43-9958-9a8c2726c2a6"
      },
      "outputs": [
        {
          "data": {
            "text/plain": [
              "['A10AC04', 'A10AD04', 'A10AB04']"
            ]
          },
          "execution_count": 26,
          "metadata": {},
          "output_type": "execute_result"
        }
      ],
      "source": [
        "mapping = CrossMap.load(\"NDC\", \"ATC\")\n",
        "mapping.map(\"50090539100\")"
      ]
    },
    {
      "cell_type": "code",
      "execution_count": null,
      "metadata": {
        "colab": {
          "background_save": true
        },
        "id": "eujTF7elwbjD"
      },
      "outputs": [],
      "source": []
    },
    {
      "cell_type": "markdown",
      "metadata": {
        "id": "en29EQlobki8"
      },
      "source": [
        "If you find it useful, please give us a star ⭐ (fork, and watch) at https://github.com/sunlabuiuc/PyHealth.\n",
        "\n",
        "Thanks very much for your support!"
      ]
    },
    {
      "cell_type": "code",
      "execution_count": null,
      "metadata": {
        "colab": {
          "background_save": true
        },
        "id": "VVjX3Yalvdth"
      },
      "outputs": [],
      "source": []
    }
  ],
  "metadata": {
    "colab": {
      "provenance": []
    },
    "gpuClass": "standard",
    "kernelspec": {
      "display_name": "Python 3",
      "name": "python3"
    }
  },
  "nbformat": 4,
  "nbformat_minor": 0
}